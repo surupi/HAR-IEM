{
  "cells": [
    {
      "cell_type": "code",
      "execution_count": 1,
      "metadata": {
        "id": "NMGnARnzkxgb"
      },
      "outputs": [],
      "source": [
        "import numpy as np\n",
        "import random\n",
        "import pandas as pd\n",
        "import matplotlib.pyplot as plt\n",
        "from sklearn.metrics import accuracy_score\n",
        "import seaborn as sns\n",
        "from sklearn import preprocessing\n",
        "from sklearn.preprocessing import StandardScaler\n",
        "from sklearn.neighbors import KNeighborsClassifier\n",
        "from sklearn.tree import DecisionTreeClassifier\n",
        "from sklearn.ensemble import RandomForestClassifier\n",
        "from sklearn.svm import SVC\n",
        "from sklearn.metrics import confusion_matrix,classification_report,accuracy_score\n",
        "from sklearn.model_selection import GridSearchCV"
      ]
    },
    {
      "cell_type": "code",
      "execution_count": 2,
      "metadata": {
        "id": "bM5taLZUg5vv"
      },
      "outputs": [],
      "source": [
        "X= pd.read_csv('/content/drive/MyDrive/All csv files/HAR HAPT/test_X.csv')\n",
        "Y=pd.read_csv('/content/drive/MyDrive/All csv files/HAR HAPT/test_Y.csv')"
      ]
    },
    {
      "cell_type": "code",
      "execution_count": 3,
      "metadata": {
        "colab": {
          "base_uri": "https://localhost:8080/"
        },
        "id": "Tk80smG2AnmK",
        "outputId": "e9a842d5-e3c0-48f1-f49a-4c5bd2e2da36"
      },
      "outputs": [
        {
          "output_type": "stream",
          "name": "stdout",
          "text": [
            "Labels for training and testing data\n",
            "      Unnamed: 0  activity\n",
            "2951        2951         2\n",
            "635          635         3\n",
            "720          720         4\n",
            "254          254         1\n",
            "2231        2231         6\n",
            "...          ...       ...\n",
            "2763        2763         5\n",
            "905          905         1\n",
            "1096        1096         3\n",
            "235          235         6\n",
            "1061        1061         1\n",
            "\n",
            "[2213 rows x 2 columns]\n",
            "      Unnamed: 0  activity\n",
            "1468        1468         5\n",
            "481          481         2\n",
            "1934        1934         2\n",
            "678          678         4\n",
            "730          730         6\n",
            "...          ...       ...\n",
            "2903        2903         3\n",
            "270          270         1\n",
            "1938        1938         3\n",
            "2767        2767         5\n",
            "1301        1301         5\n",
            "\n",
            "[949 rows x 2 columns]\n"
          ]
        }
      ],
      "source": [
        "#Import Module\n",
        "from sklearn.model_selection import train_test_split\n",
        "\n",
        "\n",
        "train_X, test_X, train_Y, test_Y = train_test_split(X, Y,\n",
        "                                                    train_size=0.7,\n",
        "                                                    test_size=0.3,\n",
        "                                                    random_state=1)\n",
        "print(\"Labels for training and testing data\")\n",
        "print(train_Y)\n",
        "print(test_Y)"
      ]
    },
    {
      "cell_type": "code",
      "execution_count": 4,
      "metadata": {
        "colab": {
          "base_uri": "https://localhost:8080/"
        },
        "id": "UO0H9St_mkno",
        "outputId": "a23e53cc-641f-40a2-9083-d05ed8702a1c"
      },
      "outputs": [
        {
          "output_type": "stream",
          "name": "stdout",
          "text": [
            "Duplicated Row in train dataset Empty DataFrame\n",
            "Columns: [Unnamed: 0, activity]\n",
            "Index: []\n",
            "Duplicated Row in test dataset Empty DataFrame\n",
            "Columns: [Unnamed: 0, activity]\n",
            "Index: []\n",
            "(2213, 562)\n",
            "(949, 562)\n",
            "(2213,)\n",
            "(949,)\n"
          ]
        }
      ],
      "source": [
        "df=pd.DataFrame(data=train_Y)\n",
        "df1=pd.DataFrame(data=test_Y)\n",
        "train_Y=df['activity']\n",
        "test_Y=df1['activity']\n",
        "duplicate=df[df.duplicated()]\n",
        "print(\"Duplicated Row in train dataset\",duplicate)\n",
        "duplicate1=df1[df1.duplicated()]\n",
        "print(\"Duplicated Row in test dataset\",duplicate1)\n",
        "print(train_X.shape)\n",
        "print(test_X.shape)\n",
        "print(train_Y.shape)\n",
        "print(test_Y.shape)"
      ]
    },
    {
      "cell_type": "code",
      "execution_count": 5,
      "metadata": {
        "colab": {
          "base_uri": "https://localhost:8080/"
        },
        "id": "agCPPqScWOOF",
        "outputId": "772d0a28-506a-4ac3-8012-93a51f2376ab"
      },
      "outputs": [
        {
          "output_type": "stream",
          "name": "stdout",
          "text": [
            "Unnamed: 0                         0\n",
            "tBodyAcc-Mean-1                    0\n",
            "tBodyAcc-Mean-2                    0\n",
            "tBodyAcc-Mean-3                    0\n",
            "tBodyAcc-STD-1                     0\n",
            "                                  ..\n",
            "tBodyGyro-AngleWRTGravity-1        0\n",
            "tBodyGyroJerk-AngleWRTGravity-1    0\n",
            "tXAxisAcc-AngleWRTGravity-1        0\n",
            "tYAxisAcc-AngleWRTGravity-1        0\n",
            "tZAxisAcc-AngleWRTGravity-1        0\n",
            "Length: 562, dtype: int64\n",
            "Unnamed: 0    0\n",
            "activity      0\n",
            "dtype: int64\n",
            "Unnamed: 0    0\n",
            "activity      0\n",
            "dtype: int64\n",
            "Unnamed: 0                         0\n",
            "tBodyAcc-Mean-1                    0\n",
            "tBodyAcc-Mean-2                    0\n",
            "tBodyAcc-Mean-3                    0\n",
            "tBodyAcc-STD-1                     0\n",
            "                                  ..\n",
            "tBodyGyro-AngleWRTGravity-1        0\n",
            "tBodyGyroJerk-AngleWRTGravity-1    0\n",
            "tXAxisAcc-AngleWRTGravity-1        0\n",
            "tYAxisAcc-AngleWRTGravity-1        0\n",
            "tZAxisAcc-AngleWRTGravity-1        0\n",
            "Length: 562, dtype: int64\n"
          ]
        }
      ],
      "source": [
        "df2=pd.DataFrame(data=train_X)\n",
        "df3=pd.DataFrame(data=test_X)\n",
        "print(df2.isna().sum())\n",
        "print(df.isna().sum())\n",
        "print(df1.isna().sum())\n",
        "print(df3.isna().sum())"
      ]
    },
    {
      "cell_type": "code",
      "execution_count": 6,
      "metadata": {
        "id": "JvJGP8489KVO"
      },
      "outputs": [],
      "source": [
        "st=StandardScaler()\n",
        "X_train=st.fit_transform(train_X)\n",
        "X_test=st.transform(test_X)"
      ]
    },
    {
      "cell_type": "code",
      "execution_count": 7,
      "metadata": {
        "id": "xhIiScm3CVhJ"
      },
      "outputs": [],
      "source": [
        "rfc = RandomForestClassifier()\n",
        "param_grid_rf = {'max_depth': list(range(5, 11)),'n_estimators':np.arange(3,15,2)}\n",
        "grid_rf = GridSearchCV(rfc, param_grid_rf, n_jobs=-1)\n",
        "grid_search_rf=grid_rf.fit(X_train, train_Y)"
      ]
    },
    {
      "cell_type": "code",
      "execution_count": 8,
      "metadata": {
        "colab": {
          "base_uri": "https://localhost:8080/"
        },
        "id": "3UJBUzUEsGLg",
        "outputId": "092718e5-555a-4c1c-9523-a4578af01b54"
      },
      "outputs": [
        {
          "output_type": "stream",
          "name": "stdout",
          "text": [
            "Best parameters for Random Forest:\n",
            " {'max_depth': 10, 'n_estimators': 13}\n"
          ]
        }
      ],
      "source": [
        "print(\"Best parameters for Random Forest:\\n\",grid_search_rf.best_params_)"
      ]
    },
    {
      "cell_type": "code",
      "source": [],
      "metadata": {
        "id": "kdEPEpxabNJB"
      },
      "execution_count": 8,
      "outputs": []
    },
    {
      "cell_type": "code",
      "execution_count": 9,
      "metadata": {
        "colab": {
          "base_uri": "https://localhost:8080/"
        },
        "id": "TQBOBVGF7AUD",
        "outputId": "2beb73bc-542c-46cf-9366-526b3293de0c"
      },
      "outputs": [
        {
          "output_type": "stream",
          "name": "stdout",
          "text": [
            "Confusion Matrix:\n",
            " [[155   2   1   0   0   0   0   0   0   0   0   0]\n",
            " [  1 146   1   0   0   0   0   0   0   0   0   0]\n",
            " [  2   5 124   0   0   0   0   0   0   0   0   0]\n",
            " [  0   0   0 143  13   0   0   0   0   0   0   0]\n",
            " [  0   0   0   6 144   0   0   0   0   0   0   0]\n",
            " [  0   0   0   1   0 153   0   0   0   0   0   0]\n",
            " [  0   0   0   0   1   0   4   0   0   0   0   0]\n",
            " [  0   0   0   1   0   0   0   2   0   0   0   0]\n",
            " [  0   0   0   0   0   0   1   0  10   0   1   0]\n",
            " [  0   0   0   0   0   0   0   0   0   3   1   7]\n",
            " [  0   1   0   0   0   0   1   0   5   0   7   1]\n",
            " [  0   0   0   0   0   0   0   0   0   0   0   6]]\n",
            "Accuracy of Random Forest: 0.9452054794520548\n"
          ]
        },
        {
          "output_type": "stream",
          "name": "stderr",
          "text": [
            "/usr/local/lib/python3.10/dist-packages/sklearn/ensemble/_forest.py:583: UserWarning: Some inputs do not have OOB scores. This probably means too few trees were used to compute any reliable OOB estimates.\n",
            "  warn(\n"
          ]
        }
      ],
      "source": [
        "classifier_rf = RandomForestClassifier(random_state=1, n_jobs=-1, max_depth=8,n_estimators=13,criterion='entropy',oob_score=True)\n",
        "classifier_rf.fit(X_train, train_Y)\n",
        "classifier_rf.oob_score_\n",
        "Y_pred_rf=classifier_rf.predict(X_test)\n",
        "print(\"Confusion Matrix:\\n\",confusion_matrix(test_Y, Y_pred_rf))\n",
        "print(\"Accuracy of Random Forest:\",accuracy_score(test_Y,Y_pred_rf))"
      ]
    },
    {
      "cell_type": "code",
      "metadata": {
        "id": "N1Tmv4YfRw49",
        "outputId": "a700b88b-2124-4ee0-9e43-aae3fcb09081",
        "colab": {
          "base_uri": "https://localhost:8080/"
        }
      },
      "source": [
        "from sklearn.metrics import classification_report\n",
        "print(classification_report(test_Y, Y_pred_rf))"
      ],
      "execution_count": 10,
      "outputs": [
        {
          "output_type": "stream",
          "name": "stdout",
          "text": [
            "              precision    recall  f1-score   support\n",
            "\n",
            "           1       0.98      0.98      0.98       158\n",
            "           2       0.95      0.99      0.97       148\n",
            "           3       0.98      0.95      0.96       131\n",
            "           4       0.95      0.92      0.93       156\n",
            "           5       0.91      0.96      0.94       150\n",
            "           6       1.00      0.99      1.00       154\n",
            "           7       0.67      0.80      0.73         5\n",
            "           8       1.00      0.67      0.80         3\n",
            "           9       0.67      0.83      0.74        12\n",
            "          10       1.00      0.27      0.43        11\n",
            "          11       0.78      0.47      0.58        15\n",
            "          12       0.43      1.00      0.60         6\n",
            "\n",
            "    accuracy                           0.95       949\n",
            "   macro avg       0.86      0.82      0.80       949\n",
            "weighted avg       0.95      0.95      0.94       949\n",
            "\n"
          ]
        }
      ]
    }
  ],
  "metadata": {
    "colab": {
      "provenance": []
    },
    "kernelspec": {
      "display_name": "Python 3",
      "name": "python3"
    },
    "language_info": {
      "name": "python"
    }
  },
  "nbformat": 4,
  "nbformat_minor": 0
}